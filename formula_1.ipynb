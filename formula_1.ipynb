{
 "cells": [
  {
   "cell_type": "markdown",
   "id": "13fa6472",
   "metadata": {},
   "source": [
    "# Análise de Dados - Fórmula 1\n",
    "\n",
    "![f1-logo](img/logo_f1.jpg \"Logo da Fórmula 1\")"
   ]
  },
  {
   "cell_type": "markdown",
   "id": "219149a6",
   "metadata": {},
   "source": [
    "## 1. Introdução\n",
    "\n",
    "A Fórmula 1 é um esporte automobilístico que desperta a paixão de milhões de fãs em todo o mundo. Desde sua criação em 1950, a Fórmula 1 tem sido palco de incríveis disputas nas pistas ao redor do mundo, e a temporada de corridas anual é uma das mais aguardadas no calendário esportivo. Neste estudo, analisaremos os dados das temporadas de 2013 a 2022 para descobrir algumas informações interessantes sobre os pilotos, equipes e corridas."
   ]
  },
  {
   "cell_type": "markdown",
   "id": "bce62d34",
   "metadata": {},
   "source": [
    "### 1.1. Objetivo\n",
    "\n",
    "O objetivo neste estudo, é realizar uma análise dos dados com os resultados das corridas das últimas 10 temporadas da Fórmula 1. Iremos responder às seguintes perguntas:\n",
    "\n",
    "1. [Qual piloto chegou mais vezes em 2º lugar?](#3.1.-Qual-piloto-chegou-mais-vezes-em-2º-lugar?)\n",
    "2. [Quais pilotos ganharam mais posições em relação à posição de largada?](#3.2.-Quais-pilotos-ganharam-mais-posições-em-relação-à-posição-de-largada?)\n",
    "3. [Qual temporada teve mais abandonos de carros durante as corridas?](#3.3.-Qual-temporada-teve-mais-abandonos-de-carros-durante-as-corridas?)\n",
    "4. [Qual numeração fixa foi utilizada por cada piloto?](#3.4.-Qual-numeração-fixa-foi-utilizada-por-cada-piloto?)\n",
    "5. [Qual equipe teve mais pódios no GP do Brasil?](#3.5.-Qual-equipe-teve-mais-pódios-no-GP-do-Brasil?)"
   ]
  },
  {
   "cell_type": "markdown",
   "id": "c650049a",
   "metadata": {},
   "source": [
    "## 2. Metodologia\n",
    "\n",
    "Nesta seção será apresentado todo o processo de preparação, organização e limpeza de dados feito no datasets que possuem os seguintes dados:\n",
    "\n",
    "| Coluna        | Descrição                                           |    \n",
    "|---------------|-----------------------------------------------------|\n",
    "| Track         | Nome da pista onde ocorreu a corrida.               |\n",
    "| Position      | Posição final do piloto na corrida.                 |\n",
    "| No            | Número do piloto.                                   |\n",
    "| Driver        | Nome do piloto.                                     |\n",
    "| Team          | Nome da equipe.                                     |\n",
    "| Starting Grid | Posição de largada do piloto.                       |\n",
    "| Laps          | Número de voltas completadas pelo piloto na corrida.|\n",
    "| Time/Retired  | Tempo total de corrida ou motivo de desistência.    |\n",
    "| Points        | Número de pontos ganhos na corrida.                 |\n",
    "| +1 Pt         | Indicador de se o piloto recebeu um ponto extra.    |\n",
    "| Fastest Lap   | Tempo da volta mais rápida do piloto na corrida.    |\n",
    "\n",
    "### OBSERVAÇÕES\n",
    "\n",
    "`+1 Pt` está representado por Yes ou No, porém só foi inserido na fórmula 1 na temporada 2021 e 2022, nesse caso não iremos utilizar essa coluna para nossa análise."
   ]
  },
  {
   "cell_type": "markdown",
   "id": "cce6f622",
   "metadata": {},
   "source": [
    "### 2.1. Importando o pandas"
   ]
  },
  {
   "cell_type": "code",
   "execution_count": 8,
   "id": "8859ad09",
   "metadata": {},
   "outputs": [],
   "source": [
    "import pandas as pd"
   ]
  },
  {
   "cell_type": "markdown",
   "id": "ed50d05d",
   "metadata": {},
   "source": [
    "### 2.2. Leitura dos Dados"
   ]
  },
  {
   "cell_type": "code",
   "execution_count": 9,
   "id": "62ff3022",
   "metadata": {},
   "outputs": [],
   "source": [
    "dataT2013 = pd.read_csv('./data/Formula1_2013season_raceResults.csv')\n",
    "dataT2014 = pd.read_csv('./data/Formula1_2014season_raceResults.csv')\n",
    "dataT2015 = pd.read_csv('./data/Formula1_2015season_raceResults.csv')\n",
    "dataT2016 = pd.read_csv('./data/Formula1_2016Season_RaceResults.csv')\n",
    "dataT2017 = pd.read_csv('./data/Formula1_2017Season_RaceResults.csv')\n",
    "dataT2018 = pd.read_csv('./data/Formula1_2018Season_RaceResults.csv')\n",
    "dataT2019 = pd.read_csv('./data/formula1_2019season_raceResults.csv')\n",
    "dataT2020 = pd.read_csv('./data/formula1_2020season_raceResults.csv')\n",
    "dataT2021 = pd.read_csv('./data/formula1_2021season_raceResults.csv')\n",
    "dataT2022 = pd.read_csv('./data/Formula1_2022season_raceResults.csv')"
   ]
  },
  {
   "cell_type": "markdown",
   "id": "d6fd34d9",
   "metadata": {},
   "source": [
    "### 2.3 Adicionar coluna 'Season' nos dataframes, representando os anos respectivos"
   ]
  },
  {
   "cell_type": "code",
   "execution_count": 10,
   "id": "aee9f284",
   "metadata": {},
   "outputs": [],
   "source": [
    "dataT2013['Season'] = '2013'\n",
    "dataT2014['Season'] = '2014'\n",
    "dataT2015['Season'] = '2015'\n",
    "dataT2016['Season'] = '2016'\n",
    "dataT2017['Season'] = '2017'\n",
    "dataT2018['Season'] = '2018'\n",
    "dataT2019['Season'] = '2019'\n",
    "dataT2020['Season'] = '2020'\n",
    "dataT2021['Season'] = '2021'\n",
    "dataT2022['Season'] = '2022'"
   ]
  },
  {
   "cell_type": "markdown",
   "id": "2d04a467",
   "metadata": {},
   "source": [
    "### 2.4 Renomear coluna 'Total/Gap/Retirement' em dataT2019 e dataT2020 para 'Time/Retired' para ficar padrão com os demais datasets"
   ]
  },
  {
   "cell_type": "code",
   "execution_count": 11,
   "id": "2d965c26",
   "metadata": {},
   "outputs": [],
   "source": [
    "dataT2019.rename(columns={'Total Time/Gap/Retirement': 'Time/Retired'}, inplace = True)\n",
    "dataT2020.rename(columns={'Total Time/Gap/Retirement': 'Time/Retired'}, inplace = True)"
   ]
  },
  {
   "cell_type": "markdown",
   "id": "52f7f544",
   "metadata": {},
   "source": [
    "### 2.5 Remover a coluna '+1 Pt' em dataT2021 e dataT2022"
   ]
  },
  {
   "cell_type": "code",
   "execution_count": 12,
   "id": "4dc9f682",
   "metadata": {},
   "outputs": [],
   "source": [
    "dataT2021 = dataT2021.drop('+1 Pt', axis='columns')\n",
    "dataT2022 = dataT2022.drop('+1 Pt', axis='columns')"
   ]
  },
  {
   "cell_type": "markdown",
   "id": "16caea1f",
   "metadata": {},
   "source": [
    "### 2.6 Juntar todos datasets em apens um dataset"
   ]
  },
  {
   "cell_type": "code",
   "execution_count": 13,
   "id": "53e3f68d",
   "metadata": {},
   "outputs": [],
   "source": [
    "dataFull = pd.concat([dataT2013, dataT2014, dataT2015, dataT2016, dataT2017, dataT2018, dataT2019, dataT2020, dataT2021, dataT2022])"
   ]
  },
  {
   "cell_type": "markdown",
   "id": "c98016f1",
   "metadata": {},
   "source": [
    "### 2.7 Renomear colunas para português"
   ]
  },
  {
   "cell_type": "code",
   "execution_count": 14,
   "id": "d4bded6e",
   "metadata": {},
   "outputs": [],
   "source": [
    "dataFull.columns = ['Pista', 'Posição', 'Nº do Piloto', 'Piloto', 'Equipe', 'Posição de largada', 'Voltas', 'Tempo/Abandono', 'Pontos', 'Volta mais rápida', 'Temporada']"
   ]
  },
  {
   "cell_type": "markdown",
   "id": "b2e42f8f",
   "metadata": {},
   "source": [
    "# 3. Análise dos Dados"
   ]
  },
  {
   "cell_type": "markdown",
   "id": "ec2679be",
   "metadata": {},
   "source": [
    "### 3.1. Qual piloto chegou mais vezes em 2º lugar?"
   ]
  },
  {
   "cell_type": "markdown",
   "id": "f87ff7ba",
   "metadata": {},
   "source": [
    "### 3.2. Quais pilotos ganharam mais posições em relação à posição de largada?"
   ]
  },
  {
   "cell_type": "markdown",
   "id": "63526ca7",
   "metadata": {},
   "source": [
    "### 3.3. Qual temporada teve mais abandonos de carros durante as corridas?"
   ]
  },
  {
   "cell_type": "markdown",
   "id": "222c565b",
   "metadata": {},
   "source": [
    "### 3.4. Qual numeração fixa foi utilizada por cada piloto?"
   ]
  },
  {
   "cell_type": "markdown",
   "id": "27b1ac4d",
   "metadata": {},
   "source": [
    "### 3.5. Qual equipe teve mais pódios no GP do Brasil?"
   ]
  },
  {
   "cell_type": "markdown",
   "id": "0af90fb3",
   "metadata": {},
   "source": [
    "## REFERÊNCIAS\n",
    "\n",
    "- [Github @toUpperCase78 - formula1-datasets](https://github.com/toUpperCase78/formula1-datasets)\n",
    "- [Análise de Dados Exploratória do Titanic](https://github.com/profdiegoaugusto/analise-dados/blob/master/Pandas/titanic-eda/titanic_an%C3%A1lise_explorat%C3%B3ria.ipynb)"
   ]
  }
 ],
 "metadata": {
  "kernelspec": {
   "display_name": "Python 3 (ipykernel)",
   "language": "python",
   "name": "python3"
  },
  "language_info": {
   "codemirror_mode": {
    "name": "ipython",
    "version": 3
   },
   "file_extension": ".py",
   "mimetype": "text/x-python",
   "name": "python",
   "nbconvert_exporter": "python",
   "pygments_lexer": "ipython3",
   "version": "3.10.6"
  }
 },
 "nbformat": 4,
 "nbformat_minor": 5
}
